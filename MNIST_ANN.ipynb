{
 "cells": [
  {
   "cell_type": "code",
   "execution_count": 1,
   "id": "7df83e0e",
   "metadata": {},
   "outputs": [],
   "source": [
    "import torch\n",
    "import torch.nn as nn\n",
    "import torch.nn.functional as F"
   ]
  },
  {
   "cell_type": "code",
   "execution_count": 2,
   "id": "fa90ab1a",
   "metadata": {},
   "outputs": [],
   "source": [
    "from torch.utils.data import DataLoader\n",
    "from torchvision import datasets, transforms"
   ]
  },
  {
   "cell_type": "code",
   "execution_count": 3,
   "id": "fd8a3ac9",
   "metadata": {},
   "outputs": [],
   "source": [
    "import numpy as np\n",
    "import pandas as pd\n",
    "from sklearn.metrics import confusion_matrix\n",
    "import matplotlib.pyplot as plt\n",
    "%matplotlib inline"
   ]
  },
  {
   "cell_type": "code",
   "execution_count": 4,
   "id": "f131a75a",
   "metadata": {},
   "outputs": [],
   "source": [
    "transform = transforms.ToTensor()"
   ]
  },
  {
   "cell_type": "code",
   "execution_count": 5,
   "id": "f7706bce",
   "metadata": {},
   "outputs": [],
   "source": [
    "train_set = datasets.MNIST(root='./Data',train=True, download=True, transform=transform)"
   ]
  },
  {
   "cell_type": "code",
   "execution_count": 6,
   "id": "0beeded4",
   "metadata": {},
   "outputs": [
    {
     "data": {
      "text/plain": [
       "Dataset MNIST\n",
       "    Number of datapoints: 60000\n",
       "    Split: train\n",
       "    Root Location: ./Data\n",
       "    Transforms (if any): ToTensor()\n",
       "    Target Transforms (if any): None"
      ]
     },
     "execution_count": 6,
     "metadata": {},
     "output_type": "execute_result"
    }
   ],
   "source": [
    "train_set"
   ]
  },
  {
   "cell_type": "code",
   "execution_count": 7,
   "id": "7b2b8de4",
   "metadata": {},
   "outputs": [],
   "source": [
    "test_set = datasets.MNIST(root='./Data', train=False, download=True, transform=transform)"
   ]
  },
  {
   "cell_type": "code",
   "execution_count": 8,
   "id": "9bdfeb82",
   "metadata": {},
   "outputs": [
    {
     "data": {
      "text/plain": [
       "Dataset MNIST\n",
       "    Number of datapoints: 10000\n",
       "    Split: test\n",
       "    Root Location: ./Data\n",
       "    Transforms (if any): ToTensor()\n",
       "    Target Transforms (if any): None"
      ]
     },
     "execution_count": 8,
     "metadata": {},
     "output_type": "execute_result"
    }
   ],
   "source": [
    "test_set"
   ]
  },
  {
   "cell_type": "code",
   "execution_count": 9,
   "id": "1dcc8fbf",
   "metadata": {},
   "outputs": [],
   "source": [
    "img, label = train_set[0]"
   ]
  },
  {
   "cell_type": "code",
   "execution_count": 10,
   "id": "ecc76c5e",
   "metadata": {},
   "outputs": [
    {
     "data": {
      "text/plain": [
       "torch.Size([1, 28, 28])"
      ]
     },
     "execution_count": 10,
     "metadata": {},
     "output_type": "execute_result"
    }
   ],
   "source": [
    "img.shape  # 1 stands for grayscale image"
   ]
  },
  {
   "cell_type": "code",
   "execution_count": 11,
   "id": "9e07eff6",
   "metadata": {},
   "outputs": [
    {
     "data": {
      "text/plain": [
       "<matplotlib.image.AxesImage at 0x282ef6c2908>"
      ]
     },
     "execution_count": 11,
     "metadata": {},
     "output_type": "execute_result"
    },
    {
     "data": {
      "image/png": "[encoded data removed]",
      "text/plain": [
       "<Figure size 432x288 with 1 Axes>"
      ]
     },
     "metadata": {
      "needs_background": "light"
     },
     "output_type": "display_data"
    }
   ],
   "source": [
    "plt.imshow(img.reshape((28,28)), cmap='gray')"
   ]
  },
  {
   "cell_type": "code",
   "execution_count": 12,
   "id": "1a698d8e",
   "metadata": {},
   "outputs": [
    {
     "data": {
      "text/plain": [
       "<torch._C.Generator at 0x282e64476b0>"
      ]
     },
     "execution_count": 12,
     "metadata": {},
     "output_type": "execute_result"
    }
   ],
   "source": [
    "torch.manual_seed(101)"
   ]
  },
  {
   "cell_type": "code",
   "execution_count": 13,
   "id": "a712ba51",
   "metadata": {},
   "outputs": [],
   "source": [
    "train_loader = DataLoader(train_set, batch_size=100, shuffle=True)\n",
    "test_loader = DataLoader(test_set, batch_size=500, shuffle=False)"
   ]
  },
  {
   "cell_type": "code",
   "execution_count": 14,
   "id": "e92f92a3",
   "metadata": {},
   "outputs": [],
   "source": [
    "class ANN(nn.Module):\n",
    "    \"\"\"\n",
    "        Creating neural network architecture\n",
    "        \n",
    "        Parameters:\n",
    "            input_size:  size of image (28*28 in this case)\n",
    "            output_size: number of output classes (numbers 0-9)\n",
    "            layers: list that contains number of hidden neurons for each layer (2 hidden layers)\n",
    "            \n",
    "        Functions:\n",
    "            forward: feed-forward nn\n",
    "    \"\"\"\n",
    "    \n",
    "    def __init__(self, input_size=784, output_size=10, layers=[120,84]):\n",
    "        super().__init__()\n",
    "        self.fc1 = nn.Linear(input_size,layers[0])\n",
    "        self.fc2 = nn.Linear(layers[0],layers[1])\n",
    "        self.fc3 = nn.Linear(layers[1],output_size)\n",
    "    \n",
    "    def forward(self,X):\n",
    "        X = F.relu(self.fc1(X))\n",
    "        X = F.relu(self.fc2(X))\n",
    "        X = self.fc3(X)\n",
    "        return F.log_softmax(X, dim=1)\n",
    "        "
   ]
  },
  {
   "cell_type": "code",
   "execution_count": 15,
   "id": "8606c2de",
   "metadata": {},
   "outputs": [
    {
     "data": {
      "text/plain": [
       "ANN(\n",
       "  (fc1): Linear(in_features=784, out_features=120, bias=True)\n",
       "  (fc2): Linear(in_features=120, out_features=84, bias=True)\n",
       "  (fc3): Linear(in_features=84, out_features=10, bias=True)\n",
       ")"
      ]
     },
     "execution_count": 15,
     "metadata": {},
     "output_type": "execute_result"
    }
   ],
   "source": [
    "torch.manual_seed(101)\n",
    "model = ANN()\n",
    "model"
   ]
  },
  {
   "cell_type": "code",
   "execution_count": 16,
   "id": "62a07755",
   "metadata": {},
   "outputs": [
    {
     "name": "stdout",
     "output_type": "stream",
     "text": [
      "94080\n",
      "120\n",
      "10080\n",
      "84\n",
      "840\n",
      "10\n"
     ]
    }
   ],
   "source": [
    "for param in model.parameters():\n",
    "    print(param.numel())  # 105,214 params in total"
   ]
  },
  {
   "cell_type": "code",
   "execution_count": 17,
   "id": "ffe7054f",
   "metadata": {},
   "outputs": [],
   "source": [
    "criterion = nn.CrossEntropyLoss()\n",
    "optimizer = torch.optim.Adam(model.parameters(), lr=0.001)"
   ]
  },
  {
   "cell_type": "code",
   "execution_count": 18,
   "id": "475af6ba",
   "metadata": {},
   "outputs": [
    {
     "name": "stdout",
     "output_type": "stream",
     "text": [
      "epoch:  0  batch:  200 [ 20000/60000]  loss: 0.28055406  accuracy:  83.040%\n",
      "epoch:  0  batch:  400 [ 40000/60000]  loss: 0.20303483  accuracy:  87.325%\n",
      "epoch:  0  batch:  600 [ 60000/60000]  loss: 0.20227623  accuracy:  89.323%\n",
      "epoch:  1  batch:  200 [ 20000/60000]  loss: 0.14457069  accuracy:  94.560%\n",
      "epoch:  1  batch:  400 [ 40000/60000]  loss: 0.10489681  accuracy:  95.110%\n",
      "epoch:  1  batch:  600 [ 60000/60000]  loss: 0.12034713  accuracy:  95.347%\n",
      "epoch:  2  batch:  200 [ 20000/60000]  loss: 0.11627211  accuracy:  96.530%\n",
      "epoch:  2  batch:  400 [ 40000/60000]  loss: 0.08906290  accuracy:  96.615%\n",
      "epoch:  2  batch:  600 [ 60000/60000]  loss: 0.10235450  accuracy:  96.740%\n",
      "epoch:  3  batch:  200 [ 20000/60000]  loss: 0.05358916  accuracy:  97.475%\n",
      "epoch:  3  batch:  400 [ 40000/60000]  loss: 0.05405060  accuracy:  97.475%\n",
      "epoch:  3  batch:  600 [ 60000/60000]  loss: 0.05676333  accuracy:  97.513%\n",
      "epoch:  4  batch:  200 [ 20000/60000]  loss: 0.13540569  accuracy:  97.945%\n",
      "epoch:  4  batch:  400 [ 40000/60000]  loss: 0.09042367  accuracy:  98.010%\n",
      "epoch:  4  batch:  600 [ 60000/60000]  loss: 0.12622960  accuracy:  98.047%\n",
      "epoch:  5  batch:  200 [ 20000/60000]  loss: 0.04426925  accuracy:  98.320%\n",
      "epoch:  5  batch:  400 [ 40000/60000]  loss: 0.04258859  accuracy:  98.375%\n",
      "epoch:  5  batch:  600 [ 60000/60000]  loss: 0.04954914  accuracy:  98.355%\n",
      "epoch:  6  batch:  200 [ 20000/60000]  loss: 0.00328652  accuracy:  99.005%\n",
      "epoch:  6  batch:  400 [ 40000/60000]  loss: 0.06625527  accuracy:  98.830%\n",
      "epoch:  6  batch:  600 [ 60000/60000]  loss: 0.07055092  accuracy:  98.710%\n",
      "epoch:  7  batch:  200 [ 20000/60000]  loss: 0.03224195  accuracy:  99.185%\n",
      "epoch:  7  batch:  400 [ 40000/60000]  loss: 0.03198477  accuracy:  99.070%\n",
      "epoch:  7  batch:  600 [ 60000/60000]  loss: 0.05197953  accuracy:  99.007%\n",
      "epoch:  8  batch:  200 [ 20000/60000]  loss: 0.00851026  accuracy:  99.300%\n",
      "epoch:  8  batch:  400 [ 40000/60000]  loss: 0.02200218  accuracy:  99.150%\n",
      "epoch:  8  batch:  600 [ 60000/60000]  loss: 0.00487304  accuracy:  99.068%\n",
      "epoch:  9  batch:  200 [ 20000/60000]  loss: 0.01639197  accuracy:  99.360%\n",
      "epoch:  9  batch:  400 [ 40000/60000]  loss: 0.00424771  accuracy:  99.332%\n",
      "epoch:  9  batch:  600 [ 60000/60000]  loss: 0.00688844  accuracy:  99.260%\n",
      "\n",
      "Duration: 90 seconds\n"
     ]
    }
   ],
   "source": [
    "import time\n",
    "start_time = time.time()\n",
    "\n",
    "epochs = 10\n",
    "\n",
    "#Trackers\n",
    "train_losses = []\n",
    "test_losses = []\n",
    "train_correct = []\n",
    "test_correct = []\n",
    "\n",
    "for i in range(epochs):\n",
    "    trn_corr = 0\n",
    "    tst_corr = 0\n",
    "    \n",
    "    # Run the training\n",
    "    for b, (X_train, y_train) in enumerate(train_loader):\n",
    "        b+=1\n",
    "        \n",
    "        # Apply the model\n",
    "        y_pred = model(X_train.view(100, -1))  # Here we flatten X_train to (100,28*28) and remove \n",
    "                                               #                                        1 dimension(1 for grayscale)\n",
    "        loss = criterion(y_pred, y_train)\n",
    " \n",
    "        # Number of correct predictions\n",
    "        predicted = torch.max(y_pred.data, 1)[1]\n",
    "        batch_corr = (predicted == y_train).sum()\n",
    "        trn_corr += batch_corr\n",
    "        \n",
    "        # Updating parameters\n",
    "        optimizer.zero_grad()\n",
    "        loss.backward()\n",
    "        optimizer.step()\n",
    "        \n",
    "        # Printing results\n",
    "        if b%200 == 0:\n",
    "            print(f'epoch: {i:2}  batch: {b:4} [{100*b:6}/60000]  loss: {loss.item():10.8f}  \\\n",
    "accuracy: {trn_corr.item()*100/(100*b):7.3f}%')\n",
    "    \n",
    "    # Update train loss and accuracy for the epoch\n",
    "    train_losses.append(loss)\n",
    "    train_correct.append(trn_corr)\n",
    "        \n",
    "    # Run the testing batches\n",
    "    with torch.no_grad():\n",
    "        for b, (X_test, y_test) in enumerate(test_loader):\n",
    "\n",
    "            # Apply the model\n",
    "            y_val = model(X_test.view(500, -1))  # Here we flatten X_test to (500,28*28)\n",
    "\n",
    "            # Number of correct predictions\n",
    "            predicted = torch.max(y_val.data, 1)[1] \n",
    "            tst_corr += (predicted == y_test).sum()\n",
    "    \n",
    "    # Update test loss and accuracy for the epoch\n",
    "    loss = criterion(y_val, y_test)\n",
    "    test_losses.append(loss)\n",
    "    test_correct.append(tst_corr)\n",
    "        \n",
    "print(f'\\nDuration: {time.time() - start_time:.0f} seconds') # print the time elapsed       "
   ]
  },
  {
   "cell_type": "code",
   "execution_count": null,
   "id": "90b80a1c",
   "metadata": {},
   "outputs": [],
   "source": [
    "# Visualizing losses"
   ]
  },
  {
   "cell_type": "code",
   "execution_count": 19,
   "id": "f4d508fc",
   "metadata": {},
   "outputs": [
    {
     "data": {
      "text/plain": [
       "<matplotlib.legend.Legend at 0x282ef9400f0>"
      ]
     },
     "execution_count": 19,
     "metadata": {},
     "output_type": "execute_result"
    },
    {
     "data": {
      "image/png": "[encoded data removed]",
      "text/plain": [
       "<Figure size 432x288 with 1 Axes>"
      ]
     },
     "metadata": {
      "needs_background": "light"
     },
     "output_type": "display_data"
    }
   ],
   "source": [
    "plt.plot(train_losses, label = 'Training Loss')\n",
    "plt.plot(test_losses, label = 'Test Loss')\n",
    "plt.legend()"
   ]
  },
  {
   "cell_type": "code",
   "execution_count": 20,
   "id": "0de1129e",
   "metadata": {},
   "outputs": [],
   "source": [
    "# Test data evaluation"
   ]
  },
  {
   "cell_type": "code",
   "execution_count": 21,
   "id": "1074f2f1",
   "metadata": {},
   "outputs": [
    {
     "name": "stdout",
     "output_type": "stream",
     "text": [
      "[tensor(9449), tensor(9600), tensor(9695), tensor(9709), tensor(9739), tensor(9734), tensor(9764), tensor(9781), tensor(9774), tensor(9775)]\n",
      "\n",
      "Test accuracy: 97.750%\n"
     ]
    }
   ],
   "source": [
    "print(test_correct)\n",
    "print()\n",
    "print(f'Test accuracy: {test_correct[-1].item()*100/10000:.3f}%') # print the most recent result as a percent"
   ]
  },
  {
   "cell_type": "code",
   "execution_count": 22,
   "id": "bf626c20",
   "metadata": {},
   "outputs": [],
   "source": [
    "test_load_all = DataLoader(test_set, batch_size=10000, shuffle=False)"
   ]
  },
  {
   "cell_type": "code",
   "execution_count": 23,
   "id": "61364b79",
   "metadata": {},
   "outputs": [
    {
     "name": "stdout",
     "output_type": "stream",
     "text": [
      "Test accuracy: 9775/10000 =  97.750%\n"
     ]
    }
   ],
   "source": [
    "with torch.no_grad():\n",
    "    \n",
    "    correct = 0\n",
    "    \n",
    "    for X_test, y_test in test_load_all:\n",
    "        y_val = model(X_test.view(len(X_test), -1)) # flatten X_test to (10000,28*28)\n",
    "        predicted = torch.max(y_val, 1)[1]\n",
    "        correct += (predicted == y_test).sum()\n",
    "print(f'Test accuracy: {correct.item()}/{len(test_set)} = {correct.item()*100/(len(test_set)):7.3f}%')"
   ]
  },
  {
   "cell_type": "code",
   "execution_count": 24,
   "id": "0d5b3839",
   "metadata": {},
   "outputs": [],
   "source": [
    "import seaborn as sns"
   ]
  },
  {
   "cell_type": "code",
   "execution_count": 25,
   "id": "03d05109",
   "metadata": {},
   "outputs": [
    {
     "data": {
      "text/plain": [
       "<matplotlib.axes._subplots.AxesSubplot at 0x282f0b71b38>"
      ]
     },
     "execution_count": 25,
     "metadata": {},
     "output_type": "execute_result"
    },
    {
     "data": {
      "image/png": "[encoded data removed]",
      "text/plain": [
       "<Figure size 432x288 with 2 Axes>"
      ]
     },
     "metadata": {
      "needs_background": "light"
     },
     "output_type": "display_data"
    }
   ],
   "source": [
    "cf_matrix = confusion_matrix(predicted.view(-1), y_test.view(-1)) # view(-1) so it fits for cf matrix visaulization\n",
    "sns.heatmap(cf_matrix, annot=True,fmt='g')"
   ]
  }
 ],
 "metadata": {
  "kernelspec": {
   "display_name": "Python 3",
   "language": "python",
   "name": "python3"
  },
  "language_info": {
   "codemirror_mode": {
    "name": "ipython",
    "version": 3
   },
   "file_extension": ".py",
   "mimetype": "text/x-python",
   "name": "python",
   "nbconvert_exporter": "python",
   "pygments_lexer": "ipython3",
   "version": "3.7.3"
  }
 },
 "nbformat": 4,
 "nbformat_minor": 5
}
