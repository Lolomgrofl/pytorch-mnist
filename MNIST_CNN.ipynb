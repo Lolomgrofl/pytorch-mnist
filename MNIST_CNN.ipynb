{
 "cells": [
  {
   "cell_type": "code",
   "execution_count": 1,
   "id": "300fc013",
   "metadata": {},
   "outputs": [],
   "source": [
    "import torch\n",
    "import torch.nn as nn\n",
    "import torch.nn.functional as F"
   ]
  },
  {
   "cell_type": "code",
   "execution_count": 2,
   "id": "11a9abee",
   "metadata": {},
   "outputs": [],
   "source": [
    "from torch.utils.data import DataLoader\n",
    "from torchvision import datasets, transforms"
   ]
  },
  {
   "cell_type": "code",
   "execution_count": 3,
   "id": "7cd89bfd",
   "metadata": {},
   "outputs": [],
   "source": [
    "import numpy as np\n",
    "import pandas as pd\n",
    "from sklearn.metrics import confusion_matrix\n",
    "import matplotlib.pyplot as plt\n",
    "%matplotlib inline"
   ]
  },
  {
   "cell_type": "code",
   "execution_count": 4,
   "id": "7a0dc6c0",
   "metadata": {},
   "outputs": [],
   "source": [
    "transform = transforms.ToTensor()"
   ]
  },
  {
   "cell_type": "code",
   "execution_count": 5,
   "id": "e8e762bf",
   "metadata": {},
   "outputs": [],
   "source": [
    "train_set = datasets.MNIST(root='./Data',train=True, download=True, transform=transform)"
   ]
  },
  {
   "cell_type": "code",
   "execution_count": 6,
   "id": "fa8f80f0",
   "metadata": {},
   "outputs": [
    {
     "data": {
      "text/plain": [
       "Dataset MNIST\n",
       "    Number of datapoints: 60000\n",
       "    Split: train\n",
       "    Root Location: ./Data\n",
       "    Transforms (if any): ToTensor()\n",
       "    Target Transforms (if any): None"
      ]
     },
     "execution_count": 6,
     "metadata": {},
     "output_type": "execute_result"
    }
   ],
   "source": [
    "train_set"
   ]
  },
  {
   "cell_type": "code",
   "execution_count": 7,
   "id": "7b707a76",
   "metadata": {},
   "outputs": [],
   "source": [
    "test_set = datasets.MNIST(root='./Data', train=False, download=True, transform=transform)"
   ]
  },
  {
   "cell_type": "code",
   "execution_count": 8,
   "id": "4bbd59bb",
   "metadata": {},
   "outputs": [
    {
     "data": {
      "text/plain": [
       "Dataset MNIST\n",
       "    Number of datapoints: 10000\n",
       "    Split: test\n",
       "    Root Location: ./Data\n",
       "    Transforms (if any): ToTensor()\n",
       "    Target Transforms (if any): None"
      ]
     },
     "execution_count": 8,
     "metadata": {},
     "output_type": "execute_result"
    }
   ],
   "source": [
    "test_set"
   ]
  },
  {
   "cell_type": "code",
   "execution_count": 9,
   "id": "b43eb883",
   "metadata": {},
   "outputs": [],
   "source": [
    "train_loader = DataLoader(train_set, batch_size=10, shuffle=True)\n",
    "test_loader = DataLoader(test_set, batch_size=10, shuffle=False)"
   ]
  },
  {
   "cell_type": "code",
   "execution_count": 10,
   "id": "be41c2f7",
   "metadata": {},
   "outputs": [],
   "source": [
    "class CNN(nn.Module):\n",
    "    \"\"\"\n",
    "        Creating CNN architecture\n",
    "        \n",
    "        2 convolutional layers and 3 fully connected layers\n",
    "    \n",
    "        \n",
    "    \"\"\"\n",
    "    \n",
    "    def __init__(self):\n",
    "        super().__init__()\n",
    "        self.conv1 = nn.Conv2d(1, 6, 3, 1) # 1 input channel (grayscale img), 6 image filters,kernel 3(3x3 filter), stride 1\n",
    "        self.conv2 = nn.Conv2d(6, 16, 3, 1)\n",
    "        self.fc1 = nn.Linear(5*5*16, 120)\n",
    "        self.fc2 = nn.Linear(120, 84)\n",
    "        self.fc3 = nn.Linear(84, 10)\n",
    "        \n",
    "    def forward(self, X):\n",
    "        X = F.relu(self.conv1(X))\n",
    "        X = F.max_pool2d(X, 2, 2)\n",
    "        X = F.relu(self.conv2(X))\n",
    "        X = F.max_pool2d(X, 2, 2)\n",
    "        X = X.view(-1, 16*5*5)\n",
    "        X = F.relu(self.fc1(X))\n",
    "        X = F.relu(self.fc2(X))\n",
    "        X = self.fc3(X)\n",
    "        return F.log_softmax(X,dim=1)"
   ]
  },
  {
   "cell_type": "code",
   "execution_count": 11,
   "id": "c4af94ec",
   "metadata": {},
   "outputs": [
    {
     "data": {
      "text/plain": [
       "CNN(\n",
       "  (conv1): Conv2d(1, 6, kernel_size=(3, 3), stride=(1, 1))\n",
       "  (conv2): Conv2d(6, 16, kernel_size=(3, 3), stride=(1, 1))\n",
       "  (fc1): Linear(in_features=400, out_features=120, bias=True)\n",
       "  (fc2): Linear(in_features=120, out_features=84, bias=True)\n",
       "  (fc3): Linear(in_features=84, out_features=10, bias=True)\n",
       ")"
      ]
     },
     "execution_count": 11,
     "metadata": {},
     "output_type": "execute_result"
    }
   ],
   "source": [
    "torch.manual_seed(42)\n",
    "model = CNN()\n",
    "model"
   ]
  },
  {
   "cell_type": "code",
   "execution_count": 12,
   "id": "fe8fd4db",
   "metadata": {},
   "outputs": [
    {
     "name": "stdout",
     "output_type": "stream",
     "text": [
      "54\n",
      "6\n",
      "864\n",
      "16\n",
      "48000\n",
      "120\n",
      "10080\n",
      "84\n",
      "840\n",
      "10\n"
     ]
    }
   ],
   "source": [
    "for param in model.parameters():\n",
    "    print(param.numel())  # total 60074 params in total"
   ]
  },
  {
   "cell_type": "code",
   "execution_count": 13,
   "id": "854215e3",
   "metadata": {},
   "outputs": [],
   "source": [
    "criterion = nn.CrossEntropyLoss()\n",
    "optimizer = torch.optim.Adam(model.parameters(), lr=0.001)"
   ]
  },
  {
   "cell_type": "code",
   "execution_count": 14,
   "id": "b1150a03",
   "metadata": {},
   "outputs": [
    {
     "name": "stdout",
     "output_type": "stream",
     "text": [
      "epoch:  0  batch:  600 [  6000/60000]  loss: 0.22537120  accuracy:  78.450%\n",
      "epoch:  0  batch: 1200 [ 12000/60000]  loss: 0.53863007  accuracy:  85.575%\n",
      "epoch:  0  batch: 1800 [ 18000/60000]  loss: 0.03859486  accuracy:  88.672%\n",
      "epoch:  0  batch: 2400 [ 24000/60000]  loss: 0.01826747  accuracy:  90.463%\n",
      "epoch:  0  batch: 3000 [ 30000/60000]  loss: 0.00651854  accuracy:  91.607%\n",
      "epoch:  0  batch: 3600 [ 36000/60000]  loss: 0.01039703  accuracy:  92.428%\n",
      "epoch:  0  batch: 4200 [ 42000/60000]  loss: 0.04001389  accuracy:  93.033%\n",
      "epoch:  0  batch: 4800 [ 48000/60000]  loss: 0.00153118  accuracy:  93.560%\n",
      "epoch:  0  batch: 5400 [ 54000/60000]  loss: 0.00019063  accuracy:  93.993%\n",
      "epoch:  0  batch: 6000 [ 60000/60000]  loss: 0.00061045  accuracy:  94.335%\n",
      "epoch:  1  batch:  600 [  6000/60000]  loss: 0.07899837  accuracy:  97.967%\n",
      "epoch:  1  batch: 1200 [ 12000/60000]  loss: 0.18192156  accuracy:  97.900%\n",
      "epoch:  1  batch: 1800 [ 18000/60000]  loss: 0.19101562  accuracy:  97.922%\n",
      "epoch:  1  batch: 2400 [ 24000/60000]  loss: 0.00027084  accuracy:  97.992%\n",
      "epoch:  1  batch: 3000 [ 30000/60000]  loss: 0.00288952  accuracy:  97.960%\n",
      "epoch:  1  batch: 3600 [ 36000/60000]  loss: 0.21982062  accuracy:  97.986%\n",
      "epoch:  1  batch: 4200 [ 42000/60000]  loss: 0.00431152  accuracy:  98.021%\n",
      "epoch:  1  batch: 4800 [ 48000/60000]  loss: 0.23087685  accuracy:  98.013%\n",
      "epoch:  1  batch: 5400 [ 54000/60000]  loss: 0.04610074  accuracy:  98.072%\n",
      "epoch:  1  batch: 6000 [ 60000/60000]  loss: 0.00358025  accuracy:  98.080%\n",
      "epoch:  2  batch:  600 [  6000/60000]  loss: 0.00579371  accuracy:  98.700%\n",
      "epoch:  2  batch: 1200 [ 12000/60000]  loss: 0.00072119  accuracy:  98.592%\n",
      "epoch:  2  batch: 1800 [ 18000/60000]  loss: 0.00042921  accuracy:  98.528%\n",
      "epoch:  2  batch: 2400 [ 24000/60000]  loss: 0.00047087  accuracy:  98.438%\n",
      "epoch:  2  batch: 3000 [ 30000/60000]  loss: 0.01802594  accuracy:  98.427%\n",
      "epoch:  2  batch: 3600 [ 36000/60000]  loss: 0.00021971  accuracy:  98.467%\n",
      "epoch:  2  batch: 4200 [ 42000/60000]  loss: 0.00057263  accuracy:  98.467%\n",
      "epoch:  2  batch: 4800 [ 48000/60000]  loss: 0.00044480  accuracy:  98.496%\n",
      "epoch:  2  batch: 5400 [ 54000/60000]  loss: 0.00058371  accuracy:  98.531%\n",
      "epoch:  2  batch: 6000 [ 60000/60000]  loss: 0.00009994  accuracy:  98.562%\n",
      "epoch:  3  batch:  600 [  6000/60000]  loss: 0.03942700  accuracy:  98.917%\n",
      "epoch:  3  batch: 1200 [ 12000/60000]  loss: 0.00819028  accuracy:  98.833%\n",
      "epoch:  3  batch: 1800 [ 18000/60000]  loss: 0.00257506  accuracy:  98.778%\n",
      "epoch:  3  batch: 2400 [ 24000/60000]  loss: 0.00045551  accuracy:  98.858%\n",
      "epoch:  3  batch: 3000 [ 30000/60000]  loss: 0.00002050  accuracy:  98.883%\n",
      "epoch:  3  batch: 3600 [ 36000/60000]  loss: 0.00045058  accuracy:  98.861%\n",
      "epoch:  3  batch: 4200 [ 42000/60000]  loss: 0.01551586  accuracy:  98.836%\n",
      "epoch:  3  batch: 4800 [ 48000/60000]  loss: 0.00930006  accuracy:  98.862%\n",
      "epoch:  3  batch: 5400 [ 54000/60000]  loss: 0.00044230  accuracy:  98.861%\n",
      "epoch:  3  batch: 6000 [ 60000/60000]  loss: 0.00108414  accuracy:  98.828%\n",
      "epoch:  4  batch:  600 [  6000/60000]  loss: 0.00138012  accuracy:  99.100%\n",
      "epoch:  4  batch: 1200 [ 12000/60000]  loss: 0.17552868  accuracy:  99.125%\n",
      "epoch:  4  batch: 1800 [ 18000/60000]  loss: 0.00297487  accuracy:  99.094%\n",
      "epoch:  4  batch: 2400 [ 24000/60000]  loss: 0.00003171  accuracy:  99.150%\n",
      "epoch:  4  batch: 3000 [ 30000/60000]  loss: 0.00080865  accuracy:  99.080%\n",
      "epoch:  4  batch: 3600 [ 36000/60000]  loss: 0.00086756  accuracy:  99.117%\n",
      "epoch:  4  batch: 4200 [ 42000/60000]  loss: 0.00228975  accuracy:  99.086%\n",
      "epoch:  4  batch: 4800 [ 48000/60000]  loss: 0.00043013  accuracy:  99.062%\n",
      "epoch:  4  batch: 5400 [ 54000/60000]  loss: 0.32260221  accuracy:  99.063%\n",
      "epoch:  4  batch: 6000 [ 60000/60000]  loss: 0.02066191  accuracy:  99.063%\n",
      "epoch:  5  batch:  600 [  6000/60000]  loss: 0.00003269  accuracy:  99.417%\n",
      "epoch:  5  batch: 1200 [ 12000/60000]  loss: 0.00015234  accuracy:  99.325%\n",
      "epoch:  5  batch: 1800 [ 18000/60000]  loss: 0.00279625  accuracy:  99.250%\n",
      "epoch:  5  batch: 2400 [ 24000/60000]  loss: 0.00004270  accuracy:  99.250%\n",
      "epoch:  5  batch: 3000 [ 30000/60000]  loss: 0.00006429  accuracy:  99.230%\n",
      "epoch:  5  batch: 3600 [ 36000/60000]  loss: 0.00140106  accuracy:  99.203%\n",
      "epoch:  5  batch: 4200 [ 42000/60000]  loss: 0.00008590  accuracy:  99.207%\n",
      "epoch:  5  batch: 4800 [ 48000/60000]  loss: 0.00054883  accuracy:  99.200%\n",
      "epoch:  5  batch: 5400 [ 54000/60000]  loss: 0.05869670  accuracy:  99.181%\n",
      "epoch:  5  batch: 6000 [ 60000/60000]  loss: 0.37270278  accuracy:  99.190%\n",
      "epoch:  6  batch:  600 [  6000/60000]  loss: 0.01284849  accuracy:  99.350%\n",
      "epoch:  6  batch: 1200 [ 12000/60000]  loss: 0.00182429  accuracy:  99.258%\n",
      "epoch:  6  batch: 1800 [ 18000/60000]  loss: 0.00049861  accuracy:  99.311%\n",
      "epoch:  6  batch: 2400 [ 24000/60000]  loss: 0.00122053  accuracy:  99.367%\n",
      "epoch:  6  batch: 3000 [ 30000/60000]  loss: 0.00003785  accuracy:  99.340%\n",
      "epoch:  6  batch: 3600 [ 36000/60000]  loss: 0.00003806  accuracy:  99.339%\n",
      "epoch:  6  batch: 4200 [ 42000/60000]  loss: 0.00016254  accuracy:  99.324%\n",
      "epoch:  6  batch: 4800 [ 48000/60000]  loss: 0.00087300  accuracy:  99.333%\n",
      "epoch:  6  batch: 5400 [ 54000/60000]  loss: 0.00000178  accuracy:  99.328%\n",
      "epoch:  6  batch: 6000 [ 60000/60000]  loss: 0.00002811  accuracy:  99.335%\n",
      "epoch:  7  batch:  600 [  6000/60000]  loss: 0.00001910  accuracy:  99.633%\n",
      "epoch:  7  batch: 1200 [ 12000/60000]  loss: 0.00000349  accuracy:  99.567%\n",
      "epoch:  7  batch: 1800 [ 18000/60000]  loss: 0.00868734  accuracy:  99.550%\n",
      "epoch:  7  batch: 2400 [ 24000/60000]  loss: 0.00003471  accuracy:  99.504%\n",
      "epoch:  7  batch: 3000 [ 30000/60000]  loss: 0.00009615  accuracy:  99.533%\n",
      "epoch:  7  batch: 3600 [ 36000/60000]  loss: 0.00046700  accuracy:  99.506%\n",
      "epoch:  7  batch: 4200 [ 42000/60000]  loss: 0.00312566  accuracy:  99.467%\n",
      "epoch:  7  batch: 4800 [ 48000/60000]  loss: 0.00031386  accuracy:  99.429%\n",
      "epoch:  7  batch: 5400 [ 54000/60000]  loss: 0.00016369  accuracy:  99.441%\n",
      "epoch:  7  batch: 6000 [ 60000/60000]  loss: 0.00000185  accuracy:  99.432%\n",
      "\n",
      "Duration: 307 seconds\n"
     ]
    }
   ],
   "source": [
    "import time\n",
    "start_time = time.time()\n",
    "\n",
    "epochs = 8\n",
    "\n",
    "# Trackers\n",
    "train_losses = []\n",
    "test_losses = []\n",
    "train_correct = []\n",
    "test_correct = []\n",
    "\n",
    "for i in range(epochs):\n",
    "    trn_corr = 0\n",
    "    tst_corr = 0\n",
    "    \n",
    "    # Run the training batches\n",
    "    for b, (X_train, y_train) in enumerate(train_loader):\n",
    "        b+=1\n",
    "        \n",
    "        # Apply the model\n",
    "        y_pred = model(X_train)  # we don't flatten X_train here\n",
    "        loss = criterion(y_pred, y_train)\n",
    " \n",
    "        # Number of correct predictions\n",
    "        predicted = torch.max(y_pred.data, 1)[1]\n",
    "        batch_corr = (predicted == y_train).sum()\n",
    "        trn_corr += batch_corr\n",
    "        \n",
    "        # Update parameters\n",
    "        optimizer.zero_grad()\n",
    "        loss.backward()\n",
    "        optimizer.step()\n",
    "        \n",
    "        # Printing results\n",
    "        if b%600 == 0:\n",
    "            print(f'epoch: {i:2}  batch: {b:4} [{10*b:6}/60000]  loss: {loss.item():10.8f}  \\\n",
    "accuracy: {trn_corr.item()*100/(10*b):7.3f}%')\n",
    "     \n",
    "    # Update train loss and accuracy for the epoch\n",
    "    train_losses.append(loss)\n",
    "    train_correct.append(trn_corr)\n",
    "        \n",
    "    # Run the testing batches\n",
    "    with torch.no_grad():\n",
    "        for b, (X_test, y_test) in enumerate(test_loader):\n",
    "\n",
    "            # Apply the model\n",
    "            y_val = model(X_test)\n",
    "\n",
    "            # Number of correct predictions\n",
    "            predicted = torch.max(y_val.data, 1)[1] \n",
    "            tst_corr += (predicted == y_test).sum()\n",
    "            \n",
    "    # Update test loss and accuracy for the epoch\n",
    "    loss = criterion(y_val, y_test)\n",
    "    test_losses.append(loss)\n",
    "    test_correct.append(tst_corr)\n",
    "        \n",
    "print(f'\\nDuration: {time.time() - start_time:.0f} seconds') # print the time elapsed            "
   ]
  },
  {
   "cell_type": "code",
   "execution_count": 27,
   "id": "8738c881",
   "metadata": {},
   "outputs": [],
   "source": [
    "# Visualizing losses"
   ]
  },
  {
   "cell_type": "code",
   "execution_count": 15,
   "id": "95b1183c",
   "metadata": {},
   "outputs": [
    {
     "data": {
      "image/png": "[encoded data removed]",
      "text/plain": [
       "<Figure size 432x288 with 1 Axes>"
      ]
     },
     "metadata": {
      "needs_background": "light"
     },
     "output_type": "display_data"
    }
   ],
   "source": [
    "plt.plot(train_losses, label='training loss')\n",
    "plt.plot(test_losses, label='validation loss')\n",
    "plt.title('Loss at the end of each epoch')\n",
    "plt.legend();"
   ]
  },
  {
   "cell_type": "code",
   "execution_count": 26,
   "id": "8a644dbd",
   "metadata": {},
   "outputs": [],
   "source": [
    "# Test data evaluation"
   ]
  },
  {
   "cell_type": "code",
   "execution_count": 16,
   "id": "c26fd3d9",
   "metadata": {},
   "outputs": [
    {
     "name": "stdout",
     "output_type": "stream",
     "text": [
      "[tensor(9807), tensor(9810), tensor(9833), tensor(9864), tensor(9846), tensor(9869), tensor(9867), tensor(9843)]\n",
      "\n",
      "Test accuracy: 98.430%\n"
     ]
    }
   ],
   "source": [
    "print(test_correct)\n",
    "print()\n",
    "print(f'Test accuracy: {test_correct[-1].item()*100/10000:.3f}%') # print the most recent result as a percent"
   ]
  },
  {
   "cell_type": "code",
   "execution_count": 21,
   "id": "dfe230fb",
   "metadata": {},
   "outputs": [],
   "source": [
    "test_load_all = DataLoader(test_set, batch_size=10000, shuffle=False)"
   ]
  },
  {
   "cell_type": "code",
   "execution_count": 24,
   "id": "d4dc8568",
   "metadata": {},
   "outputs": [
    {
     "name": "stdout",
     "output_type": "stream",
     "text": [
      "Test accuracy: 9843/10000 =  98.430%\n"
     ]
    }
   ],
   "source": [
    "with torch.no_grad():\n",
    "    correct = 0\n",
    "    for X_test, y_test in test_load_all:\n",
    "        y_val = model(X_test)  # we don't flatten the data this time\n",
    "        predicted = torch.max(y_val,1)[1]\n",
    "        correct += (predicted == y_test).sum()\n",
    "print(f'Test accuracy: {correct.item()}/{len(test_set)} = {correct.item()*100/(len(test_set)):7.3f}%')"
   ]
  },
  {
   "cell_type": "code",
   "execution_count": 25,
   "id": "43c919c9",
   "metadata": {},
   "outputs": [
    {
     "data": {
      "text/plain": [
       "<matplotlib.axes._subplots.AxesSubplot at 0x1b481fbb4e0>"
      ]
     },
     "execution_count": 25,
     "metadata": {},
     "output_type": "execute_result"
    },
    {
     "data": {
      "image/png": "[encoded data removed]",
      "text/plain": [
       "<Figure size 432x288 with 2 Axes>"
      ]
     },
     "metadata": {
      "needs_background": "light"
     },
     "output_type": "display_data"
    }
   ],
   "source": [
    "import seaborn as sns\n",
    "cf_matrix = confusion_matrix(predicted.view(-1), y_test.view(-1)) # view(-1) so it fits for cf matrix visaulization\n",
    "sns.heatmap(cf_matrix, annot=True,fmt='g')"
   ]
  }
 ],
 "metadata": {
  "kernelspec": {
   "display_name": "Python 3",
   "language": "python",
   "name": "python3"
  },
  "language_info": {
   "codemirror_mode": {
    "name": "ipython",
    "version": 3
   },
   "file_extension": ".py",
   "mimetype": "text/x-python",
   "name": "python",
   "nbconvert_exporter": "python",
   "pygments_lexer": "ipython3",
   "version": "3.7.3"
  }
 },
 "nbformat": 4,
 "nbformat_minor": 5
}
